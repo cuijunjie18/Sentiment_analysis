{
 "cells": [
  {
   "cell_type": "markdown",
   "id": "d0381a13",
   "metadata": {},
   "source": [
    "### **尝试多GPU训练**"
   ]
  },
  {
   "cell_type": "code",
   "execution_count": 1,
   "id": "2ff1e703",
   "metadata": {},
   "outputs": [],
   "source": [
    "import torch\n",
    "from torch import nn\n",
    "from d2l import torch as d2l\n",
    "from net_frame import *\n",
    "from tqdm import tqdm"
   ]
  },
  {
   "cell_type": "code",
   "execution_count": 2,
   "id": "c798ba4e",
   "metadata": {},
   "outputs": [
    {
     "name": "stderr",
     "output_type": "stream",
     "text": [
      "read pos:   0%|          | 0/12500 [00:00<?, ?it/s]"
     ]
    },
    {
     "name": "stderr",
     "output_type": "stream",
     "text": [
      "read pos: 100%|██████████| 12500/12500 [00:00<00:00, 68934.11it/s]\n",
      "read neg: 100%|██████████| 12500/12500 [00:00<00:00, 73088.71it/s]\n"
     ]
    },
    {
     "name": "stdout",
     "output_type": "stream",
     "text": [
      "Load raw data use time:0.3845533225685358s\n"
     ]
    },
    {
     "name": "stderr",
     "output_type": "stream",
     "text": [
      "read pos: 100%|██████████| 12500/12500 [00:00<00:00, 73559.92it/s]\n",
      "read neg: 100%|██████████| 12500/12500 [00:00<00:00, 75763.18it/s]\n"
     ]
    },
    {
     "name": "stdout",
     "output_type": "stream",
     "text": [
      "Load raw data use time:0.35823698714375496s\n",
      "Build vocab....\n",
      "Finish!\n",
      "Build data-iter...\n",
      "Finish!\n"
     ]
    }
   ],
   "source": [
    "# 加载数据\n",
    "from data_preprocess import get_data\n",
    "train_iter, test_iter, vocab = get_data(batch_size = 768)"
   ]
  },
  {
   "cell_type": "markdown",
   "id": "386ded98",
   "metadata": {},
   "source": [
    "**使用rnn测试**"
   ]
  },
  {
   "cell_type": "code",
   "execution_count": 3,
   "id": "9b42a576",
   "metadata": {},
   "outputs": [
    {
     "data": {
      "text/plain": [
       "BiRNN(\n",
       "  (embedding): Embedding(76835, 100)\n",
       "  (encoder): LSTM(100, 100, num_layers=2, bidirectional=True)\n",
       "  (decoder): Linear(in_features=400, out_features=2, bias=True)\n",
       ")"
      ]
     },
     "execution_count": 3,
     "metadata": {},
     "output_type": "execute_result"
    }
   ],
   "source": [
    "class BiRNN(nn.Module):\n",
    "    \"\"\"双向RNN\"\"\"\n",
    "    def __init__(self, vocab_size, embed_size, num_hiddens,\n",
    "                 num_layers, **kwargs):\n",
    "        super(BiRNN, self).__init__(**kwargs)\n",
    "        self.embedding = nn.Embedding(vocab_size, embed_size)\n",
    "        # 将bidirectional设置为True以获取双向循环神经网络\n",
    "        self.encoder = nn.LSTM(embed_size, num_hiddens, num_layers=num_layers,\n",
    "                                bidirectional=True)\n",
    "        self.decoder = nn.Linear(4 * num_hiddens, 2)\n",
    "\n",
    "    def forward(self, inputs):\n",
    "        # inputs的形状是（批量大小，时间步数）\n",
    "        # 因为长短期记忆网络要求其输入的第一个维度是时间维，\n",
    "        # 所以在获得词元表示之前，输入会被转置。\n",
    "        # 输出形状为（时间步数，批量大小，词向量维度）\n",
    "        embeddings = self.embedding(inputs.T)\n",
    "        self.encoder.flatten_parameters()\n",
    "        # 返回上一个隐藏层在不同时间步的隐状态，\n",
    "        # outputs的形状是（时间步数，批量大小，2*隐藏单元数）\n",
    "        outputs, _ = self.encoder(embeddings)\n",
    "        # 连结初始和最终时间步的隐状态，作为全连接层的输入，\n",
    "        # 其形状为（批量大小，4*隐藏单元数）\n",
    "        encoding = torch.cat((outputs[0], outputs[-1]), dim=1)\n",
    "        outs = self.decoder(encoding)\n",
    "        return outs\n",
    "\n",
    "# 权重初始化函数\n",
    "def init_weights(m):\n",
    "    if type(m) == nn.Linear:\n",
    "        nn.init.xavier_uniform_(m.weight)\n",
    "    if type(m) == nn.LSTM:\n",
    "        for param in m._flat_weights_names:\n",
    "            if \"weight\" in param:\n",
    "                nn.init.xavier_uniform_(m._parameters[param])\n",
    "\n",
    "# 搭建网络\n",
    "embed_size, num_hiddens, num_layers = 100, 100, 2\n",
    "devices = d2l.try_all_gpus()\n",
    "net = BiRNN(len(vocab), embed_size, num_hiddens, num_layers)\n",
    "net.apply(init_weights)"
   ]
  },
  {
   "cell_type": "code",
   "execution_count": 4,
   "id": "235bf1bb",
   "metadata": {},
   "outputs": [],
   "source": [
    "# 使用预训练的embedding层\n",
    "from embed_layer import TokenEmbedding\n",
    "glove_embedding = TokenEmbedding('glove.6b.100d') # 100维，对应embed_size"
   ]
  },
  {
   "cell_type": "code",
   "execution_count": 5,
   "id": "2bcf30f2",
   "metadata": {},
   "outputs": [
    {
     "name": "stdout",
     "output_type": "stream",
     "text": [
      "torch.Size([76835, 100])\n"
     ]
    }
   ],
   "source": [
    "# 测试\n",
    "embeds = glove_embedding[vocab.idx_to_token]\n",
    "print(embeds.shape)\n",
    "\n",
    "# 加载\n",
    "net.embedding.weight.data.copy_(embeds)\n",
    "net.embedding.weight.requires_grad = False"
   ]
  },
  {
   "cell_type": "code",
   "execution_count": 6,
   "id": "5d25c617",
   "metadata": {},
   "outputs": [],
   "source": [
    "# 计算准确率\n",
    "def accurancy(net,data_iter,devices):\n",
    "    \"\"\"计算准确率\"\"\"\n",
    "    net.eval()\n",
    "    total_nums = 0\n",
    "    correct_nums = 0\n",
    "    for batch in data_iter:\n",
    "        X,Y = batch[0],batch[1]\n",
    "        X = X.to(devices[0])\n",
    "        Y = Y.to(devices[0])\n",
    "        y_pred = net(X).argmax(dim = 1)\n",
    "        correct_nums += (y_pred == Y).sum().item()\n",
    "        total_nums += X.shape[0]\n",
    "    return correct_nums / total_nums\n",
    "\n",
    "# 定义训练函数\n",
    "def train(net,trainer:torch.optim.Adam,train_iter,test_iter,loss_fn,lr,num_epochs,devices_idx = None):\n",
    "    \"\"\"训练情感分析模型\"\"\"\n",
    "    # 设置设备\n",
    "    if devices_idx == None:\n",
    "        device = try_gpu(i = 0)\n",
    "    else:\n",
    "        assert (type(devices_idx == list) and \n",
    "                type(devices_idx[0]) == int),\"devices_idx must be list of int\"\n",
    "        devices = [torch.device(f\"cuda:{i}\")\n",
    "                   for i in devices_idx]\n",
    "    print(f\"Training on{devices}\")\n",
    "    \n",
    "    # 多GPU加载网络\n",
    "    # net = net.to(device)\n",
    "    net = nn.DataParallel(net, device_ids=devices).to(devices[0])\n",
    "\n",
    "    # 开始训练\n",
    "    loss_plt = []\n",
    "    train_accs = []\n",
    "    test_accs = []\n",
    "    for epoch in range(num_epochs):\n",
    "        net.train() # 循环涉及评估，则每次循环前要net.train()\n",
    "        loop = tqdm(train_iter,desc = f\"Epoch:[{epoch + 1}/{num_epochs}]\",\n",
    "                    total = len(train_iter))\n",
    "        loss_temp = 0\n",
    "        total_nums = 0\n",
    "        for batch in loop:\n",
    "            # 清空梯度\n",
    "            trainer.zero_grad()\n",
    "\n",
    "            # forward\n",
    "            X,Y = batch\n",
    "            X = X.to(devices[0]) # 放置在devices[0]即可\n",
    "            Y = Y.to(devices[0])\n",
    "            # print(X.shape,Y.shape)\n",
    "            y_pred = net(X)\n",
    "            total_nums += X.shape[0]\n",
    "\n",
    "            # count loss and backwar\n",
    "            loss = loss_fn(y_pred,Y)\n",
    "            loss.sum().backward()\n",
    "            trainer.step()\n",
    "\n",
    "            # 先step后再调用item()，否则切断计算图\n",
    "            loss_temp += loss.sum().item()\n",
    "            \n",
    "            # # update parameters\n",
    "            # trainer.step()\n",
    "            loop.set_postfix({\"LOSS\" : loss_temp / total_nums,\"lr\" : \"{:e}\".format(trainer.param_groups[0]['lr'])})\n",
    "        print(\"Counting accurancy...\")\n",
    "        train_acc = accurancy(net,train_iter,devices)\n",
    "        test_acc = accurancy(net,test_iter,devices)\n",
    "        print(f\"train acc:{train_acc}\")\n",
    "        print(f\"test acc:{test_acc}\")\n",
    "        loss_plt.append(loss_temp / total_nums)\n",
    "        train_accs.append(train_acc)\n",
    "        test_accs.append(test_acc)\n",
    "    return loss_plt,train_accs,test_accs"
   ]
  },
  {
   "cell_type": "code",
   "execution_count": 7,
   "id": "fc3b5712",
   "metadata": {},
   "outputs": [
    {
     "name": "stdout",
     "output_type": "stream",
     "text": [
      "Training on[device(type='cuda', index=1)]\n"
     ]
    },
    {
     "name": "stderr",
     "output_type": "stream",
     "text": [
      "Epoch:[1/20]: 100%|██████████| 33/33 [00:03<00:00,  9.64it/s, LOSS=0.703, lr=1.000000e-02]\n"
     ]
    },
    {
     "name": "stdout",
     "output_type": "stream",
     "text": [
      "Counting accurancy...\n",
      "train acc:0.62564\n",
      "test acc:0.61696\n"
     ]
    },
    {
     "name": "stderr",
     "output_type": "stream",
     "text": [
      "Epoch:[2/20]: 100%|██████████| 33/33 [00:03<00:00, 10.16it/s, LOSS=0.644, lr=1.000000e-02]\n"
     ]
    },
    {
     "name": "stdout",
     "output_type": "stream",
     "text": [
      "Counting accurancy...\n"
     ]
    },
    {
     "ename": "KeyboardInterrupt",
     "evalue": "",
     "output_type": "error",
     "traceback": [
      "\u001b[0;31m---------------------------------------------------------------------------\u001b[0m",
      "\u001b[0;31mKeyboardInterrupt\u001b[0m                         Traceback (most recent call last)",
      "Cell \u001b[0;32mIn[7], line 5\u001b[0m\n\u001b[1;32m      3\u001b[0m loss \u001b[38;5;241m=\u001b[39m nn\u001b[38;5;241m.\u001b[39mCrossEntropyLoss(reduction \u001b[38;5;241m=\u001b[39m \u001b[38;5;124m'\u001b[39m\u001b[38;5;124mnone\u001b[39m\u001b[38;5;124m'\u001b[39m) \u001b[38;5;66;03m# 返回每个样本的损失，即reduction = 'None'\u001b[39;00m\n\u001b[1;32m      4\u001b[0m trainer \u001b[38;5;241m=\u001b[39m torch\u001b[38;5;241m.\u001b[39moptim\u001b[38;5;241m.\u001b[39mAdam(net\u001b[38;5;241m.\u001b[39mparameters(),lr \u001b[38;5;241m=\u001b[39m lr)\n\u001b[0;32m----> 5\u001b[0m plt_collections \u001b[38;5;241m=\u001b[39m \u001b[43mtrain\u001b[49m\u001b[43m(\u001b[49m\u001b[43mnet\u001b[49m\u001b[43m,\u001b[49m\u001b[43mtrainer\u001b[49m\u001b[43m,\u001b[49m\u001b[43mtrain_iter\u001b[49m\u001b[43m,\u001b[49m\u001b[43mtest_iter\u001b[49m\u001b[43m,\u001b[49m\u001b[43mloss\u001b[49m\u001b[43m,\u001b[49m\u001b[43mlr\u001b[49m\u001b[43m,\u001b[49m\u001b[43mnum_epochs\u001b[49m\u001b[43m,\u001b[49m\u001b[43mdevices_idx\u001b[49m\u001b[43m \u001b[49m\u001b[38;5;241;43m=\u001b[39;49m\u001b[43m \u001b[49m\u001b[43m[\u001b[49m\u001b[38;5;241;43m1\u001b[39;49m\u001b[43m]\u001b[49m\u001b[43m)\u001b[49m\n",
      "Cell \u001b[0;32mIn[6], line 68\u001b[0m, in \u001b[0;36mtrain\u001b[0;34m(net, trainer, train_iter, test_iter, loss_fn, lr, num_epochs, devices_idx)\u001b[0m\n\u001b[1;32m     66\u001b[0m \u001b[38;5;28mprint\u001b[39m(\u001b[38;5;124m\"\u001b[39m\u001b[38;5;124mCounting accurancy...\u001b[39m\u001b[38;5;124m\"\u001b[39m)\n\u001b[1;32m     67\u001b[0m train_acc \u001b[38;5;241m=\u001b[39m accurancy(net,train_iter,devices)\n\u001b[0;32m---> 68\u001b[0m test_acc \u001b[38;5;241m=\u001b[39m \u001b[43maccurancy\u001b[49m\u001b[43m(\u001b[49m\u001b[43mnet\u001b[49m\u001b[43m,\u001b[49m\u001b[43mtest_iter\u001b[49m\u001b[43m,\u001b[49m\u001b[43mdevices\u001b[49m\u001b[43m)\u001b[49m\n\u001b[1;32m     69\u001b[0m \u001b[38;5;28mprint\u001b[39m(\u001b[38;5;124mf\u001b[39m\u001b[38;5;124m\"\u001b[39m\u001b[38;5;124mtrain acc:\u001b[39m\u001b[38;5;132;01m{\u001b[39;00mtrain_acc\u001b[38;5;132;01m}\u001b[39;00m\u001b[38;5;124m\"\u001b[39m)\n\u001b[1;32m     70\u001b[0m \u001b[38;5;28mprint\u001b[39m(\u001b[38;5;124mf\u001b[39m\u001b[38;5;124m\"\u001b[39m\u001b[38;5;124mtest acc:\u001b[39m\u001b[38;5;132;01m{\u001b[39;00mtest_acc\u001b[38;5;132;01m}\u001b[39;00m\u001b[38;5;124m\"\u001b[39m)\n",
      "Cell \u001b[0;32mIn[6], line 12\u001b[0m, in \u001b[0;36maccurancy\u001b[0;34m(net, data_iter, devices)\u001b[0m\n\u001b[1;32m     10\u001b[0m     Y \u001b[38;5;241m=\u001b[39m Y\u001b[38;5;241m.\u001b[39mto(devices[\u001b[38;5;241m0\u001b[39m])\n\u001b[1;32m     11\u001b[0m     y_pred \u001b[38;5;241m=\u001b[39m net(X)\u001b[38;5;241m.\u001b[39margmax(dim \u001b[38;5;241m=\u001b[39m \u001b[38;5;241m1\u001b[39m)\n\u001b[0;32m---> 12\u001b[0m     correct_nums \u001b[38;5;241m+\u001b[39m\u001b[38;5;241m=\u001b[39m \u001b[43m(\u001b[49m\u001b[43my_pred\u001b[49m\u001b[43m \u001b[49m\u001b[38;5;241;43m==\u001b[39;49m\u001b[43m \u001b[49m\u001b[43mY\u001b[49m\u001b[43m)\u001b[49m\u001b[38;5;241;43m.\u001b[39;49m\u001b[43msum\u001b[49m\u001b[43m(\u001b[49m\u001b[43m)\u001b[49m\u001b[38;5;241;43m.\u001b[39;49m\u001b[43mitem\u001b[49m\u001b[43m(\u001b[49m\u001b[43m)\u001b[49m\n\u001b[1;32m     13\u001b[0m     total_nums \u001b[38;5;241m+\u001b[39m\u001b[38;5;241m=\u001b[39m X\u001b[38;5;241m.\u001b[39mshape[\u001b[38;5;241m0\u001b[39m]\n\u001b[1;32m     14\u001b[0m \u001b[38;5;28;01mreturn\u001b[39;00m correct_nums \u001b[38;5;241m/\u001b[39m total_nums\n",
      "\u001b[0;31mKeyboardInterrupt\u001b[0m: "
     ]
    }
   ],
   "source": [
    "# 训练超参数\n",
    "lr, num_epochs = 0.01, 20\n",
    "loss = nn.CrossEntropyLoss(reduction = 'none') # 返回每个样本的损失，即reduction = 'None'\n",
    "trainer = torch.optim.Adam(net.parameters(),lr = lr)\n",
    "plt_collections = train(net,trainer,train_iter,test_iter,loss,lr,num_epochs,devices_idx = [1])"
   ]
  },
  {
   "cell_type": "markdown",
   "id": "9cea2c87",
   "metadata": {},
   "source": [
    "结论：我这组batch_size =  792,三卡训练平均1个epoch 1s，而单卡要3s."
   ]
  }
 ],
 "metadata": {
  "kernelspec": {
   "display_name": "QwenLM",
   "language": "python",
   "name": "python3"
  },
  "language_info": {
   "codemirror_mode": {
    "name": "ipython",
    "version": 3
   },
   "file_extension": ".py",
   "mimetype": "text/x-python",
   "name": "python",
   "nbconvert_exporter": "python",
   "pygments_lexer": "ipython3",
   "version": "3.10.16"
  }
 },
 "nbformat": 4,
 "nbformat_minor": 5
}
