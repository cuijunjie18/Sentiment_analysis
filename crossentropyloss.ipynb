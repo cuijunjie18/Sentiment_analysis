{
 "cells": [
  {
   "cell_type": "code",
   "execution_count": 2,
   "id": "aaaca899",
   "metadata": {},
   "outputs": [],
   "source": [
    "import torch"
   ]
  },
  {
   "cell_type": "code",
   "execution_count": 10,
   "id": "62c72c72",
   "metadata": {},
   "outputs": [],
   "source": [
    "loss = torch.nn.CrossEntropyLoss(reduction = 'none')"
   ]
  },
  {
   "cell_type": "code",
   "execution_count": 14,
   "id": "425a91b8",
   "metadata": {},
   "outputs": [
    {
     "name": "stdout",
     "output_type": "stream",
     "text": [
      "torch.Size([3, 4]) torch.Size([3]) torch.Size([3, 4])\n"
     ]
    }
   ],
   "source": [
    "Y_pred = torch.rand((3,4))\n",
    "Y1 = torch.ones(3,dtype = torch.long)\n",
    "Y2 = torch.nn.functional.one_hot(Y1,num_classes = 4).to(torch.float32)\n",
    "print(Y_pred.shape,Y1.shape,Y2.shape)"
   ]
  },
  {
   "cell_type": "code",
   "execution_count": 15,
   "id": "ccf1b49c",
   "metadata": {},
   "outputs": [],
   "source": [
    "loss1 = loss(Y_pred,Y1)\n",
    "loss2 = loss(Y_pred,Y2)"
   ]
  },
  {
   "cell_type": "code",
   "execution_count": 16,
   "id": "d287b54c",
   "metadata": {},
   "outputs": [
    {
     "name": "stdout",
     "output_type": "stream",
     "text": [
      "torch.Size([3]) torch.Size([3])\n",
      "tensor([1.1802, 1.7334, 1.1245]) tensor([1.1802, 1.7334, 1.1245])\n"
     ]
    }
   ],
   "source": [
    "print(loss1.shape,loss2.shape)\n",
    "print(loss1,loss2)"
   ]
  }
 ],
 "metadata": {
  "kernelspec": {
   "display_name": "QwenLM",
   "language": "python",
   "name": "python3"
  },
  "language_info": {
   "codemirror_mode": {
    "name": "ipython",
    "version": 3
   },
   "file_extension": ".py",
   "mimetype": "text/x-python",
   "name": "python",
   "nbconvert_exporter": "python",
   "pygments_lexer": "ipython3",
   "version": "3.10.16"
  }
 },
 "nbformat": 4,
 "nbformat_minor": 5
}
