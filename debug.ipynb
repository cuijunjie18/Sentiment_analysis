{
 "cells": [
  {
   "cell_type": "code",
   "execution_count": 1,
   "id": "6212cf0c",
   "metadata": {},
   "outputs": [],
   "source": [
    "import torch\n",
    "from torch import nn\n",
    "from d2l import torch as d2l\n",
    "from net_frame import *\n",
    "from data_precess import get_data"
   ]
  },
  {
   "cell_type": "code",
   "execution_count": 2,
   "id": "753c1b31",
   "metadata": {},
   "outputs": [
    {
     "name": "stderr",
     "output_type": "stream",
     "text": [
      "read pos:  96%|█████████▌| 11972/12500 [00:00<00:00, 62182.23it/s]"
     ]
    },
    {
     "name": "stderr",
     "output_type": "stream",
     "text": [
      "read pos: 100%|██████████| 12500/12500 [00:00<00:00, 59943.02it/s]\n",
      "read neg: 100%|██████████| 12500/12500 [00:00<00:00, 76670.02it/s]\n"
     ]
    },
    {
     "name": "stdout",
     "output_type": "stream",
     "text": [
      "Load raw data use time:0.41604113671928644s\n"
     ]
    },
    {
     "name": "stderr",
     "output_type": "stream",
     "text": [
      "read pos: 100%|██████████| 12500/12500 [00:00<00:00, 77021.89it/s]\n",
      "read neg: 100%|██████████| 12500/12500 [00:00<00:00, 76492.83it/s]\n"
     ]
    },
    {
     "name": "stdout",
     "output_type": "stream",
     "text": [
      "Load raw data use time:0.34792733285576105s\n",
      "Build vocab....\n",
      "Finish!\n",
      "Build data-iter...\n",
      "Finish!\n"
     ]
    }
   ],
   "source": [
    "batch_size = 64\n",
    "train_iter, test_iter, train_vocab, test_voacb = get_data()"
   ]
  },
  {
   "cell_type": "code",
   "execution_count": 3,
   "id": "bc21b7ff",
   "metadata": {},
   "outputs": [],
   "source": [
    "class BiRNN(nn.Module):\n",
    "    \"\"\"双向RNN\"\"\"\n",
    "    def __init__(self, vocab_size, embed_size, num_hiddens,\n",
    "                 num_layers, **kwargs):\n",
    "        super(BiRNN, self).__init__(**kwargs)\n",
    "        self.embedding = nn.Embedding(vocab_size, embed_size)\n",
    "        # 将bidirectional设置为True以获取双向循环神经网络\n",
    "        self.encoder = nn.LSTM(embed_size, num_hiddens, num_layers=num_layers,\n",
    "                                bidirectional=True)\n",
    "        self.decoder = nn.Linear(4 * num_hiddens, 2)\n",
    "\n",
    "    def forward(self, inputs):\n",
    "        # inputs的形状是（批量大小，时间步数）\n",
    "        # 因为长短期记忆网络要求其输入的第一个维度是时间维，\n",
    "        # 所以在获得词元表示之前，输入会被转置。\n",
    "        # 输出形状为（时间步数，批量大小，词向量维度）\n",
    "        embeddings = self.embedding(inputs.T)\n",
    "        self.encoder.flatten_parameters()\n",
    "        # 返回上一个隐藏层在不同时间步的隐状态，\n",
    "        # outputs的形状是（时间步数，批量大小，2*隐藏单元数）\n",
    "        outputs, _ = self.encoder(embeddings)\n",
    "        # 连结初始和最终时间步的隐状态，作为全连接层的输入，\n",
    "        # 其形状为（批量大小，4*隐藏单元数）\n",
    "        encoding = torch.cat((outputs[0], outputs[-1]), dim=1)\n",
    "        outs = self.decoder(encoding)\n",
    "        return outs\n"
   ]
  },
  {
   "cell_type": "code",
   "execution_count": 18,
   "id": "8ae9d808",
   "metadata": {},
   "outputs": [
    {
     "data": {
      "text/plain": [
       "BiRNN(\n",
       "  (embedding): Embedding(280619, 100)\n",
       "  (encoder): LSTM(100, 100, num_layers=2, bidirectional=True)\n",
       "  (decoder): Linear(in_features=400, out_features=2, bias=True)\n",
       ")"
      ]
     },
     "execution_count": 18,
     "metadata": {},
     "output_type": "execute_result"
    }
   ],
   "source": [
    "# 权重初始化函数\n",
    "def init_weights(m):\n",
    "    if type(m) == nn.Linear:\n",
    "        nn.init.xavier_uniform_(m.weight)\n",
    "    if type(m) == nn.LSTM:\n",
    "        for param in m._flat_weights_names:\n",
    "            if \"weight\" in param:\n",
    "                nn.init.xavier_uniform_(m._parameters[param])\n",
    "# 搭建网络\n",
    "embed_size, num_hiddens, num_layers = 100, 100, 2\n",
    "# devices = d2l.try_all_gpus()\n",
    "net = BiRNN(len(train_vocab), embed_size, num_hiddens, num_layers)\n",
    "net.apply(init_weights)"
   ]
  },
  {
   "cell_type": "code",
   "execution_count": 5,
   "id": "a5b57c4a",
   "metadata": {},
   "outputs": [],
   "source": [
    "# 使用预训练的embedding层\n",
    "from embed_layer import TokenEmbedding\n",
    "glove_embedding = TokenEmbedding('glove.6b.100d') # 100维，对应embed_size"
   ]
  },
  {
   "cell_type": "code",
   "execution_count": 19,
   "id": "98f17616",
   "metadata": {},
   "outputs": [
    {
     "name": "stdout",
     "output_type": "stream",
     "text": [
      "torch.Size([280619, 100])\n"
     ]
    }
   ],
   "source": [
    "# 测试\n",
    "embeds = glove_embedding[train_vocab.idx_to_token]\n",
    "print(embeds.shape)\n",
    "\n",
    "# 加载\n",
    "net.embedding.weight.data.copy_(embeds)\n",
    "net.embedding.weight.requires_grad = False"
   ]
  },
  {
   "cell_type": "code",
   "execution_count": 20,
   "id": "b7f69cbf",
   "metadata": {},
   "outputs": [],
   "source": [
    "from tqdm import tqdm\n",
    "# 计算准确率\n",
    "def accurancy(net,train_iter):\n",
    "    \"\"\"计算准确率\"\"\"\n",
    "    total_nums = 0\n",
    "    correct_nums = 0\n",
    "    for batch in train_iter:\n",
    "        return\n",
    "\n",
    "# 定义训练函数\n",
    "def train(net,trainer:torch.optim.Adam,train_iter,loss_fn,lr,num_epochs,device_idx = None):\n",
    "    \"\"\"训练情感分析模型\"\"\"\n",
    "    # 设置设备\n",
    "    if device_idx == None:\n",
    "        device = try_gpu(i = 0)\n",
    "    else:\n",
    "        device = try_gpu(device_idx)\n",
    "    \n",
    "    # 加载网络\n",
    "    net = net.to(device)\n",
    "    net.train()\n",
    "\n",
    "    # 开始训练\n",
    "    loss_plt = []\n",
    "    for epoch in range(num_epochs):\n",
    "        loop = tqdm(train_iter,desc = f\"Epoch:[{epoch + 1}/{num_epochs}]\",\n",
    "                    total = len(train_iter))\n",
    "        loss_temp = 0\n",
    "        total_nums = 0\n",
    "        for batch in loop:\n",
    "            # 清空梯度\n",
    "            trainer.zero_grad()\n",
    "\n",
    "            # forward\n",
    "            X,Y = batch\n",
    "            X = X.to(device)\n",
    "            Y = Y.to(device)\n",
    "            # print(X.shape,Y.shape)\n",
    "            y_pred = net(X)\n",
    "            total_nums += X.shape[0]\n",
    "\n",
    "            # count loss and backwar\n",
    "            loss = loss_fn(y_pred,Y)\n",
    "            loss.sum().backward()\n",
    "            # trainer.step()\n",
    "\n",
    "            # 先step后再调用item()，否则切断计算图\n",
    "            loss_temp += loss.sum().item()\n",
    "            \n",
    "            # # update parameters\n",
    "            trainer.step()\n",
    "            loop.set_postfix({\"LOSS\" : loss_temp / total_nums,\"lr\" : \"{:e}\".format(trainer.param_groups[0]['lr'])})\n",
    "        loss_plt.append(loss_temp)\n",
    "    return loss_plt"
   ]
  },
  {
   "cell_type": "code",
   "execution_count": 12,
   "id": "5e41d6a8",
   "metadata": {},
   "outputs": [],
   "source": [
    "from tqdm import tqdm\n",
    "\n",
    "def train_batch_ch13(net, X, y, loss, trainer, device):\n",
    "    \"\"\"Train for a minibatch with multiple GPUs (defined in Chapter 13).\n",
    "\n",
    "    Defined in :numref:`sec_image_augmentation`\"\"\"\n",
    "    # if isinstance(X, list):\n",
    "    #     # Required for BERT fine-tuning (to be covered later)\n",
    "    #     X = [x.to(devices[0]) for x in X]\n",
    "    # else:\n",
    "    #     X = X.to(devices[0])\n",
    "    X = X.to(device)\n",
    "    y = y.to(device)\n",
    "    net.train()\n",
    "    trainer.zero_grad()\n",
    "    pred = net(X)\n",
    "    l = loss(pred, y)\n",
    "    l.sum().backward()\n",
    "    trainer.step()\n",
    "    train_loss_sum = l.sum()\n",
    "    train_acc_sum = d2l.accuracy(pred, y)\n",
    "    return train_loss_sum, train_acc_sum\n",
    "\n",
    "def train_ch13(net, train_iter, test_iter, loss, trainer, num_epochs,\n",
    "               device_idx = 0):\n",
    "    \"\"\"Train a model with multiple GPUs (defined in Chapter 13).\n",
    "\n",
    "    Defined in :numref:`sec_image_augmentation`\"\"\"\n",
    "    # timer, num_batches = d2l.Timer(), len(train_iter)\n",
    "    # animator = d2l.Animator(xlabel='epoch', xlim=[1, num_epochs], ylim=[0, 1],\n",
    "    #                         legend=['train loss', 'train acc', 'test acc'])\n",
    "    # net = nn.DataParallel(net, device_ids=devices).to(devices[0])\n",
    "    device = d2l.try_gpu(device_idx)\n",
    "    net = net.to(device)\n",
    "    for epoch in range(num_epochs):\n",
    "        # Sum of training loss, sum of training accuracy, no. of examples,\n",
    "        # no. of predictions\n",
    "        # metric = d2l.Accumulator(4)\n",
    "        loop = tqdm(enumerate(train_iter),desc = f\"Epoch:[{epoch + 1}/{num_epochs}]\",\n",
    "                    total = len(train_iter))\n",
    "        loss_temp = 0\n",
    "        total_nums = 0\n",
    "        for i, (features, labels) in loop:\n",
    "            # timer.start()\n",
    "            l, acc = train_batch_ch13(\n",
    "                net, features, labels, loss, trainer, device)\n",
    "            # metric.add(l, acc, labels.shape[0], labels.numel())\n",
    "            # timer.stop()\n",
    "            # if (i + 1) % (num_batches // 5) == 0 or i == num_batches - 1:\n",
    "            #     animator.add(epoch + (i + 1) / num_batches,\n",
    "            #                  (metric[0] / metric[2], metric[1] / metric[3],\n",
    "            #                   None))\n",
    "            loss_temp += l.item()\n",
    "            total_nums += labels.shape[0]\n",
    "            loop.set_postfix({\"Loss\":loss_temp / total_nums})\n",
    "        # test_acc = d2l.evaluate_accuracy_gpu(net, test_iter)\n",
    "        # animator.add(epoch + 1, (None, None, test_acc))\n",
    "    # print(f'loss {metric[0] / metric[2]:.3f}, train acc '\n",
    "    #       f'{metric[1] / metric[3]:.3f}, test acc {test_acc:.3f}')\n",
    "    # print(f'{metric[2] * num_epochs / timer.sum():.1f} examples/sec on '\n",
    "    #       f'{str(devices)}')"
   ]
  },
  {
   "cell_type": "code",
   "execution_count": 21,
   "id": "632dbb30",
   "metadata": {},
   "outputs": [
    {
     "name": "stderr",
     "output_type": "stream",
     "text": [
      "Epoch:[1/5]:   2%|▏         | 9/391 [00:00<00:09, 38.96it/s, LOSS=0.714, lr=1.000000e-02]"
     ]
    },
    {
     "name": "stderr",
     "output_type": "stream",
     "text": [
      "Epoch:[1/5]: 100%|██████████| 391/391 [00:08<00:00, 45.16it/s, LOSS=0.598, lr=1.000000e-02]\n",
      "Epoch:[2/5]: 100%|██████████| 391/391 [00:08<00:00, 45.53it/s, LOSS=0.392, lr=1.000000e-02]\n",
      "Epoch:[3/5]: 100%|██████████| 391/391 [00:08<00:00, 45.36it/s, LOSS=0.346, lr=1.000000e-02]\n",
      "Epoch:[4/5]: 100%|██████████| 391/391 [00:08<00:00, 45.05it/s, LOSS=0.32, lr=1.000000e-02] \n",
      "Epoch:[5/5]: 100%|██████████| 391/391 [00:08<00:00, 45.38it/s, LOSS=0.29, lr=1.000000e-02] \n"
     ]
    }
   ],
   "source": [
    "# 训练超参数\n",
    "lr, num_epochs = 0.01, 5\n",
    "loss = nn.CrossEntropyLoss(reduction = 'none') # 返回每个样本的损失，即reduction = 'None'\n",
    "trainer = torch.optim.Adam(net.parameters(),lr = lr)\n",
    "loss_plt = train(net,trainer,train_iter,loss,lr,num_epochs,device_idx = 2)"
   ]
  },
  {
   "cell_type": "code",
   "execution_count": null,
   "id": "f4eb1ea0",
   "metadata": {},
   "outputs": [],
   "source": [
    "lr, num_epochs = 0.01, 5\n",
    "trainer = torch.optim.Adam(net.parameters(), lr=lr)\n",
    "loss = nn.CrossEntropyLoss(reduction=\"none\")\n",
    "train_ch13(net, train_iter, test_iter, loss, trainer, num_epochs,\n",
    "    device_idx = 2)"
   ]
  }
 ],
 "metadata": {
  "kernelspec": {
   "display_name": "QwenLM",
   "language": "python",
   "name": "python3"
  },
  "language_info": {
   "codemirror_mode": {
    "name": "ipython",
    "version": 3
   },
   "file_extension": ".py",
   "mimetype": "text/x-python",
   "name": "python",
   "nbconvert_exporter": "python",
   "pygments_lexer": "ipython3",
   "version": "3.10.16"
  }
 },
 "nbformat": 4,
 "nbformat_minor": 5
}
