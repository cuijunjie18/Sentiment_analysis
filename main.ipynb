{
 "cells": [
  {
   "cell_type": "markdown",
   "id": "3ed0e3c8",
   "metadata": {},
   "source": [
    "### **NLP应用——情感分析**"
   ]
  },
  {
   "cell_type": "code",
   "execution_count": 1,
   "id": "737ad6d0",
   "metadata": {},
   "outputs": [],
   "source": [
    "import torch\n",
    "from torch import nn\n",
    "from d2l import torch as d2l\n",
    "from net_frame import *\n",
    "from tqdm import tqdm"
   ]
  },
  {
   "cell_type": "markdown",
   "id": "15c2c296",
   "metadata": {},
   "source": [
    "**一、数据预处理**"
   ]
  },
  {
   "cell_type": "code",
   "execution_count": 5,
   "id": "26de322f",
   "metadata": {},
   "outputs": [
    {
     "name": "stderr",
     "output_type": "stream",
     "text": [
      "read pos:   0%|          | 0/12500 [00:00<?, ?it/s]"
     ]
    },
    {
     "name": "stderr",
     "output_type": "stream",
     "text": [
      "read pos: 100%|██████████| 12500/12500 [00:00<00:00, 60815.50it/s]\n",
      "read neg: 100%|██████████| 12500/12500 [00:00<00:00, 71871.47it/s]"
     ]
    },
    {
     "name": "stdout",
     "output_type": "stream",
     "text": [
      "Load data use time:0.42752361204475164s\n"
     ]
    },
    {
     "name": "stderr",
     "output_type": "stream",
     "text": [
      "\n"
     ]
    }
   ],
   "source": [
    "import os\n",
    "from tqdm import tqdm # 使用会减慢循环效率\n",
    "import time\n",
    "\n",
    "# 方法1\n",
    "def get_raw_data(data_path = 'aclImdb',istrain = True):\n",
    "    \"\"\"获取原始的sentence及标签\"\"\"\n",
    "    start = time.perf_counter()\n",
    "    path_prefix = os.path.join(data_path,'train' if istrain else 'test')\n",
    "    data = []\n",
    "    labels = []\n",
    "    for label in ['pos','neg']:\n",
    "        folder = os.path.join(path_prefix,label)\n",
    "\n",
    "        # 这样写比在最后加loop.set_description(f\"read {label}\")快50倍\n",
    "        loop = tqdm(os.listdir(folder),total = len(os.listdir(folder)),desc = 'read ' + label)\n",
    "        for filename in loop:\n",
    "        # for filename in os.listdir(folder):\n",
    "            filename = os.path.join(folder,filename)\n",
    "            with open(filename,'r',encoding = 'utf-8') as file:\n",
    "                for line in file:\n",
    "                    data.append(line.strip())\n",
    "                    labels.append(1 if label == 'pos' else 0)\n",
    "    end = time.perf_counter()\n",
    "    print(f\"Load data use time:{end - start}s\")\n",
    "    return data,labels\n",
    "\n",
    "# 方法2\n",
    "def get_raw_data2(data_path = 'aclImdb',istrain = True):\n",
    "    import glob\n",
    "    \"\"\"使用glob遍历文件\"\"\"\n",
    "    start = time.perf_counter()\n",
    "    path_prefix = os.path.join(data_path,'train' if istrain else 'test')\n",
    "    data = []\n",
    "    labels = []\n",
    "    for label in ['pos','neg']:\n",
    "        folder = os.path.join(path_prefix,label,\"*.txt\")\n",
    "        loop = tqdm(glob.glob(folder),total = len(glob.glob(folder)),desc = 'read ' + label)\n",
    "        for filename in loop:\n",
    "            with open(filename,'r',encoding = 'utf-8') as file:\n",
    "                for line in file:\n",
    "                    data.append(line.strip())\n",
    "                    labels.append(1 if label == 'pos' else 0)\n",
    "            loop.set_description(f\"read {label}\",refresh = False)\n",
    "    end = time.perf_counter()\n",
    "    print(f\"Load data use time:{end - start}s\")\n",
    "    return data,labels\n",
    "\n",
    "train_data,train_labels = get_raw_data()\n",
    "# test_data,test_labels = get_raw_data(istrain = False)"
   ]
  },
  {
   "cell_type": "code",
   "execution_count": 3,
   "id": "71693c5a",
   "metadata": {},
   "outputs": [
    {
     "name": "stdout",
     "output_type": "stream",
     "text": [
      "25000\n",
      "25000\n"
     ]
    }
   ],
   "source": [
    "# 检查数据是否读取完全\n",
    "print(len(train_data))\n",
    "print(len(train_labels))\n",
    "# print(len(test_data))\n",
    "# print(len(test_labels))"
   ]
  },
  {
   "cell_type": "code",
   "execution_count": 4,
   "id": "901a4f43",
   "metadata": {},
   "outputs": [],
   "source": [
    "# 原始数据tokenize\n",
    "source_train = tokenize(train_data,token = 'word')"
   ]
  },
  {
   "cell_type": "code",
   "execution_count": 5,
   "id": "9c26108c",
   "metadata": {},
   "outputs": [],
   "source": [
    "# 构建词表(文本分类仅需<pad>为保留token)\n",
    "train_vocab = Vocab(source_train,reserved_tokens = ['<pad>'])\n",
    "# target_vocab = Vocab(target,reserved_tokens = ['<pad>'])"
   ]
  },
  {
   "cell_type": "code",
   "execution_count": 6,
   "id": "ad6a1640",
   "metadata": {},
   "outputs": [],
   "source": [
    "def build_array(text,vocab,num_steps):\n",
    "    \"\"\"文本token to idx,将原始文本标量化\"\"\"\n",
    "    lines = [vocab[l] for l in text]\n",
    "    arrays = [truncate_pad(line,num_steps,padding_token = vocab['<pad>']) for line in lines]\n",
    "    return torch.tensor(arrays,dtype = torch.int32)"
   ]
  },
  {
   "cell_type": "code",
   "execution_count": 7,
   "id": "b5ea55dc",
   "metadata": {},
   "outputs": [
    {
     "name": "stdout",
     "output_type": "stream",
     "text": [
      "torch.Size([25000, 500])\n",
      "torch.Size([25000])\n"
     ]
    }
   ],
   "source": [
    "# 数据标量化\n",
    "num_steps = 500\n",
    "source_arrays = build_array(source_train,train_vocab,num_steps = 500)\n",
    "# target_arrays = torch.tensor(train_labels).reshape(-1,1)\n",
    "target_arrays = torch.tensor(train_labels).to(torch.long) # 类别索引格式，dtype = long\n",
    "print(source_arrays.shape)\n",
    "print(target_arrays.shape)"
   ]
  },
  {
   "cell_type": "code",
   "execution_count": 8,
   "id": "a40ded17",
   "metadata": {},
   "outputs": [],
   "source": [
    "# 构造数据迭代器\n",
    "batch_size = 64\n",
    "train_iter = data.DataLoader(\n",
    "    data.TensorDataset(source_arrays,target_arrays),batch_size,shuffle = True)\n",
    "    # 之前检查的时候设置了False,结果忘记关了，debug一下午"
   ]
  },
  {
   "cell_type": "code",
   "execution_count": 9,
   "id": "4e522ee2",
   "metadata": {},
   "outputs": [
    {
     "name": "stdout",
     "output_type": "stream",
     "text": [
      "torch.Size([64, 500]) torch.Size([64])\n",
      "tensor([[   9,  388,    8,  ...,    1,    1,    1],\n",
      "        [  49,    7, 5748,  ...,    2, 1729,   14],\n",
      "        [  19,   48,    9,  ...,    1,    1,    1],\n",
      "        ...,\n",
      "        [ 359, 2171, 7588,  ...,    1,    1,    1],\n",
      "        [  49,   21,    7,  ...,    1,    1,    1],\n",
      "        [  49,    7,   32,  ...,    1,    1,    1]], dtype=torch.int32)\n",
      "I went in to this movie thinking it was going to be the next Clerks, but left feeling let down. The humor was weak and the characters fairly flat. That isn't to say it was all bad, the idea of the dating service in the grocery store seemed like pretty fertile material, but the director switched focus to the cliche'd \"save the Mom-and-Pop store from the evil corporation guy\". I felt like if he would have just stuck with the dating service plot, he would have come out with a much more memorable movie. Now, to do the film justice, I am from the Rochester area and loved the way he portrayed Webster. In fact, the best Kevin Smith (of Clerks) homage here was giving props to his hometown. Webster, NY is to Checkout what Red Bank, NJ is to Clerks. The director wisely threw in a date at Nick Tahou's. Trust me, as far as things to do in Rochester, a garbage plate is at the top of the list. I was lucky enough to see this film at the Little in Rochester so everybody knew when the odes to the town came up and appreciated them. <pad> <pad> <pad> <pad> <pad> <pad> <pad> <pad> <pad> <pad> <pad> <pad> <pad> <pad> <pad> <pad> <pad> <pad> <pad> <pad> <pad> <pad> <pad> <pad> <pad> <pad> <pad> <pad> <pad> <pad> <pad> <pad> <pad> <pad> <pad> <pad> <pad> <pad> <pad> <pad> <pad> <pad> <pad> <pad> <pad> <pad> <pad> <pad> <pad> <pad> <pad> <pad> <pad> <pad> <pad> <pad> <pad> <pad> <pad> <pad> <pad> <pad> <pad> <pad> <pad> <pad> <pad> <pad> <pad> <pad> <pad> <pad> <pad> <pad> <pad> <pad> <pad> <pad> <pad> <pad> <pad> <pad> <pad> <pad> <pad> <pad> <pad> <pad> <pad> <pad> <pad> <pad> <pad> <pad> <pad> <pad> <pad> <pad> <pad> <pad> <pad> <pad> <pad> <pad> <pad> <pad> <pad> <pad> <pad> <pad> <pad> <pad> <pad> <pad> <pad> <pad> <pad> <pad> <pad> <pad> <pad> <pad> <pad> <pad> <pad> <pad> <pad> <pad> <pad> <pad> <pad> <pad> <pad> <pad> <pad> <pad> <pad> <pad> <pad> <pad> <pad> <pad> <pad> <pad> <pad> <pad> <pad> <pad> <pad> <pad> <pad> <pad> <pad> <pad> <pad> <pad> <pad> <pad> <pad> <pad> <pad> <pad> <pad> <pad> <pad> <pad> <pad> <pad> <pad> <pad> <pad> <pad> <pad> <pad> <pad> <pad> <pad> <pad> <pad> <pad> <pad> <pad> <pad> <pad> <pad> <pad> <pad> <pad> <pad> <pad> <pad> <pad> <pad> <pad> <pad> <pad> <pad> <pad> <pad> <pad> <pad> <pad> <pad> <pad> <pad> <pad> <pad> <pad> <pad> <pad> <pad> <pad> <pad> <pad> <pad> <pad> <pad> <pad> <pad> <pad> <pad> <pad> <pad> <pad> <pad> <pad> <pad> <pad> <pad> <pad> <pad> <pad> <pad> <pad> <pad> <pad> <pad> <pad> <pad> <pad> <pad> <pad> <pad> <pad> <pad> <pad> <pad> <pad> <pad> <pad> <pad> <pad> <pad> <pad> <pad> <pad> <pad> <pad> <pad> <pad> <pad> <pad> <pad> <pad> <pad> <pad> <pad> <pad> <pad> <pad> <pad> <pad> <pad> <pad> <pad> <pad> <pad> <pad> <pad> <pad> <pad> <pad> <pad> <pad> <pad> <pad> <pad> <pad> <pad> <pad> <pad> <pad> <pad> <pad> <pad> <pad> <pad> <pad> <pad> <pad> <pad> <pad> \n"
     ]
    }
   ],
   "source": [
    "# 测试数据是否正确加载\n",
    "for batch in train_iter:\n",
    "    X,Y = batch\n",
    "    print(X.shape,Y.shape)\n",
    "    print(X)\n",
    "    str = \"\"\n",
    "    for x in X[0]:\n",
    "        str += train_vocab.to_tokens(x.item()) + \" \"\n",
    "    print(str)\n",
    "    break"
   ]
  },
  {
   "attachments": {
    "image.png": {
     "image/png": "[encoded data removed]"
    }
   },
   "cell_type": "markdown",
   "id": "81be2242",
   "metadata": {},
   "source": [
    "**二、使用RNN架构去搭建模型**\n",
    "\n",
    "![image.png](attachment:image.png)"
   ]
  },
  {
   "cell_type": "code",
   "execution_count": 2,
   "id": "2871ebe4",
   "metadata": {},
   "outputs": [
    {
     "name": "stderr",
     "output_type": "stream",
     "text": [
      "read pos: 100%|██████████| 12500/12500 [00:00<00:00, 45138.79it/s]\n",
      "read neg: 100%|██████████| 12500/12500 [00:00<00:00, 48281.78it/s]\n"
     ]
    },
    {
     "name": "stdout",
     "output_type": "stream",
     "text": [
      "Load raw data use time:0.592184086330235s\n"
     ]
    },
    {
     "name": "stderr",
     "output_type": "stream",
     "text": [
      "read pos: 100%|██████████| 12500/12500 [00:00<00:00, 48470.68it/s]\n",
      "read neg: 100%|██████████| 12500/12500 [00:00<00:00, 72323.47it/s]\n"
     ]
    },
    {
     "name": "stdout",
     "output_type": "stream",
     "text": [
      "Load raw data use time:0.46204288583248854s\n",
      "Build vocab....\n",
      "Finish!\n",
      "Build data-iter...\n",
      "Finish!\n"
     ]
    }
   ],
   "source": [
    "# # debug用\n",
    "from data_preprocess import get_data\n",
    "train_iter, test_iter, vocab = get_data()"
   ]
  },
  {
   "cell_type": "code",
   "execution_count": 3,
   "id": "6e473d11",
   "metadata": {},
   "outputs": [
    {
     "name": "stdout",
     "output_type": "stream",
     "text": [
      "76835\n"
     ]
    }
   ],
   "source": [
    "print(len(vocab))"
   ]
  },
  {
   "cell_type": "code",
   "execution_count": 4,
   "id": "12b3ab24",
   "metadata": {},
   "outputs": [
    {
     "name": "stdout",
     "output_type": "stream",
     "text": [
      "tensor([[True, True, True,  ..., True, True, True],\n",
      "        [True, True, True,  ..., True, True, True],\n",
      "        [True, True, True,  ..., True, True, True],\n",
      "        ...,\n",
      "        [True, True, True,  ..., True, True, True],\n",
      "        [True, True, True,  ..., True, True, True],\n",
      "        [True, True, True,  ..., True, True, True]])\n"
     ]
    }
   ],
   "source": [
    "# Test\n",
    "x = torch.rand((100,50))\n",
    "print(x.permute(1,0) == x.T)"
   ]
  },
  {
   "cell_type": "code",
   "execution_count": 5,
   "id": "1633dbf8",
   "metadata": {},
   "outputs": [],
   "source": [
    "class BiRNN(nn.Module):\n",
    "    \"\"\"双向RNN\"\"\"\n",
    "    def __init__(self, vocab_size, embed_size, num_hiddens,\n",
    "                 num_layers, **kwargs):\n",
    "        super(BiRNN, self).__init__(**kwargs)\n",
    "        self.embedding = nn.Embedding(vocab_size, embed_size)\n",
    "        # 将bidirectional设置为True以获取双向循环神经网络\n",
    "        self.encoder = nn.LSTM(embed_size, num_hiddens, num_layers=num_layers,\n",
    "                                bidirectional=True)\n",
    "        self.decoder = nn.Linear(4 * num_hiddens, 2)\n",
    "\n",
    "    def forward(self, inputs):\n",
    "        # inputs的形状是（批量大小，时间步数）\n",
    "        # 因为长短期记忆网络要求其输入的第一个维度是时间维，\n",
    "        # 所以在获得词元表示之前，输入会被转置。\n",
    "        # 输出形状为（时间步数，批量大小，词向量维度）\n",
    "        embeddings = self.embedding(inputs.T)\n",
    "        self.encoder.flatten_parameters()\n",
    "        # 返回上一个隐藏层在不同时间步的隐状态，\n",
    "        # outputs的形状是（时间步数，批量大小，2*隐藏单元数）\n",
    "        outputs, _ = self.encoder(embeddings)\n",
    "        # 连结初始和最终时间步的隐状态，作为全连接层的输入，\n",
    "        # 其形状为（批量大小，4*隐藏单元数）\n",
    "        encoding = torch.cat((outputs[0], outputs[-1]), dim=1)\n",
    "        outs = self.decoder(encoding)\n",
    "        return outs\n"
   ]
  },
  {
   "cell_type": "code",
   "execution_count": 6,
   "id": "ed212617",
   "metadata": {},
   "outputs": [],
   "source": [
    "# 权重初始化函数\n",
    "def init_weights(m):\n",
    "    if type(m) == nn.Linear:\n",
    "        nn.init.xavier_uniform_(m.weight)\n",
    "    if type(m) == nn.LSTM:\n",
    "        for param in m._flat_weights_names:\n",
    "            if \"weight\" in param:\n",
    "                nn.init.xavier_uniform_(m._parameters[param])"
   ]
  },
  {
   "cell_type": "code",
   "execution_count": 7,
   "id": "d948586b",
   "metadata": {},
   "outputs": [
    {
     "data": {
      "text/plain": [
       "BiRNN(\n",
       "  (embedding): Embedding(76835, 100)\n",
       "  (encoder): LSTM(100, 100, num_layers=2, bidirectional=True)\n",
       "  (decoder): Linear(in_features=400, out_features=2, bias=True)\n",
       ")"
      ]
     },
     "execution_count": 7,
     "metadata": {},
     "output_type": "execute_result"
    }
   ],
   "source": [
    "# 搭建网络\n",
    "embed_size, num_hiddens, num_layers = 100, 100, 2\n",
    "# devices = d2l.try_all_gpus()\n",
    "net = BiRNN(len(vocab), embed_size, num_hiddens, num_layers)\n",
    "net.apply(init_weights)\n"
   ]
  },
  {
   "cell_type": "code",
   "execution_count": 8,
   "id": "2acdaa32",
   "metadata": {},
   "outputs": [],
   "source": [
    "# 使用预训练的embedding层\n",
    "from embed_layer import TokenEmbedding\n",
    "glove_embedding = TokenEmbedding('glove.6b.100d') # 100维，对应embed_size"
   ]
  },
  {
   "cell_type": "code",
   "execution_count": 9,
   "id": "82d34cb5",
   "metadata": {},
   "outputs": [
    {
     "name": "stdout",
     "output_type": "stream",
     "text": [
      "torch.Size([76835, 100])\n"
     ]
    }
   ],
   "source": [
    "# 测试\n",
    "embeds = glove_embedding[vocab.idx_to_token]\n",
    "print(embeds.shape)\n",
    "\n",
    "# 加载\n",
    "net.embedding.weight.data.copy_(embeds)\n",
    "net.embedding.weight.requires_grad = False"
   ]
  },
  {
   "cell_type": "code",
   "execution_count": 10,
   "id": "faedfa4d",
   "metadata": {},
   "outputs": [
    {
     "name": "stdout",
     "output_type": "stream",
     "text": [
      "==========================================================================================\n",
      "Layer (type:depth-idx)                   Output Shape              Param #\n",
      "==========================================================================================\n",
      "BiRNN                                    [1, 2]                    --\n",
      "├─Embedding: 1-1                         [500, 1, 100]             (7,683,500)\n",
      "├─LSTM: 1-2                              [500, 1, 200]             403,200\n",
      "├─Linear: 1-3                            [1, 2]                    802\n",
      "==========================================================================================\n",
      "Total params: 8,087,502\n",
      "Trainable params: 404,002\n",
      "Non-trainable params: 7,683,500\n",
      "Total mult-adds (G): 4.04\n",
      "==========================================================================================\n",
      "Input size (MB): 0.00\n",
      "Forward/backward pass size (MB): 1.20\n",
      "Params size (MB): 32.35\n",
      "Estimated Total Size (MB): 33.55\n",
      "==========================================================================================\n"
     ]
    }
   ],
   "source": [
    "from torchinfo import summary\n",
    "input = torch.ones((1,500),dtype = torch.long).to(next(net.parameters()).device)\n",
    "print(summary(net,input_data = input))"
   ]
  },
  {
   "cell_type": "code",
   "execution_count": 11,
   "id": "89275cc7",
   "metadata": {},
   "outputs": [],
   "source": [
    "# 计算准确率\n",
    "def accurancy(net,data_iter,device):\n",
    "    \"\"\"计算准确率\"\"\"\n",
    "    net.eval()\n",
    "    total_nums = 0\n",
    "    correct_nums = 0\n",
    "    for batch in data_iter:\n",
    "        X,Y = batch[0],batch[1]\n",
    "        X = X.to(device)\n",
    "        Y = Y.to(device)\n",
    "        y_pred = net(X).argmax(dim = 1)\n",
    "        correct_nums += (y_pred == Y).sum().item()\n",
    "        total_nums += X.shape[0]\n",
    "    return correct_nums / total_nums\n",
    "\n",
    "# 定义训练函数\n",
    "def train(net,trainer:torch.optim.Adam,train_iter,test_iter,loss_fn,lr,num_epochs,device_idx = None):\n",
    "    \"\"\"训练情感分析模型\"\"\"\n",
    "    # 设置设备\n",
    "    if device_idx == None:\n",
    "        device = try_gpu(i = 0)\n",
    "    else:\n",
    "        device = try_gpu(device_idx)\n",
    "    \n",
    "    # 加载网络\n",
    "    net = net.to(device)\n",
    "\n",
    "    # 开始训练\n",
    "    loss_plt = []\n",
    "    train_accs = []\n",
    "    test_accs = []\n",
    "    for epoch in range(num_epochs):\n",
    "        net.train() # 循环涉及评估，则每次循环前要net.train()\n",
    "        loop = tqdm(train_iter,desc = f\"Epoch:[{epoch + 1}/{num_epochs}]\",\n",
    "                    total = len(train_iter))\n",
    "        loss_temp = 0\n",
    "        total_nums = 0\n",
    "        for batch in loop:\n",
    "            # 清空梯度\n",
    "            trainer.zero_grad()\n",
    "\n",
    "            # forward\n",
    "            X,Y = batch\n",
    "            X = X.to(device)\n",
    "            Y = Y.to(device)\n",
    "            # print(X.shape,Y.shape)\n",
    "            y_pred = net(X)\n",
    "            total_nums += X.shape[0]\n",
    "\n",
    "            # count loss and backwar\n",
    "            loss = loss_fn(y_pred,Y)\n",
    "            loss.sum().backward()\n",
    "            trainer.step()\n",
    "\n",
    "            # 先step后再调用item()，否则切断计算图\n",
    "            loss_temp += loss.sum().item()\n",
    "            \n",
    "            # # update parameters\n",
    "            # trainer.step()\n",
    "            loop.set_postfix({\"LOSS\" : loss_temp / total_nums,\"lr\" : \"{:e}\".format(trainer.param_groups[0]['lr'])})\n",
    "        print(\"Counting accurancy...\")\n",
    "        train_acc = accurancy(net,train_iter,device)\n",
    "        test_acc = accurancy(net,test_iter,device)\n",
    "        print(f\"train acc:{train_acc}\")\n",
    "        print(f\"test acc:{test_acc}\")\n",
    "        loss_plt.append(loss_temp / total_nums)\n",
    "        train_accs.append(train_acc)\n",
    "        test_accs.append(test_acc)\n",
    "    return loss_plt,train_accs,test_accs"
   ]
  },
  {
   "cell_type": "code",
   "execution_count": 14,
   "id": "1ebc935f",
   "metadata": {},
   "outputs": [
    {
     "name": "stderr",
     "output_type": "stream",
     "text": [
      "Epoch:[1/20]: 100%|██████████| 391/391 [00:08<00:00, 45.45it/s, LOSS=0.618, lr=1.000000e-02]\n"
     ]
    },
    {
     "name": "stdout",
     "output_type": "stream",
     "text": [
      "Counting accurancy...\n",
      "train acc:0.81\n",
      "test acc:0.80936\n"
     ]
    },
    {
     "name": "stderr",
     "output_type": "stream",
     "text": [
      "Epoch:[2/20]: 100%|██████████| 391/391 [00:08<00:00, 47.86it/s, LOSS=0.419, lr=1.000000e-02]\n"
     ]
    },
    {
     "name": "stdout",
     "output_type": "stream",
     "text": [
      "Counting accurancy...\n",
      "train acc:0.84372\n",
      "test acc:0.83216\n"
     ]
    },
    {
     "name": "stderr",
     "output_type": "stream",
     "text": [
      "Epoch:[3/20]: 100%|██████████| 391/391 [00:08<00:00, 48.23it/s, LOSS=0.369, lr=1.000000e-02]\n"
     ]
    },
    {
     "name": "stdout",
     "output_type": "stream",
     "text": [
      "Counting accurancy...\n",
      "train acc:0.86384\n",
      "test acc:0.84456\n"
     ]
    },
    {
     "name": "stderr",
     "output_type": "stream",
     "text": [
      "Epoch:[4/20]: 100%|██████████| 391/391 [00:08<00:00, 47.70it/s, LOSS=0.332, lr=1.000000e-02]\n"
     ]
    },
    {
     "name": "stdout",
     "output_type": "stream",
     "text": [
      "Counting accurancy...\n",
      "train acc:0.8816\n",
      "test acc:0.85204\n"
     ]
    },
    {
     "name": "stderr",
     "output_type": "stream",
     "text": [
      "Epoch:[5/20]: 100%|██████████| 391/391 [00:08<00:00, 47.53it/s, LOSS=0.305, lr=1.000000e-02]\n"
     ]
    },
    {
     "name": "stdout",
     "output_type": "stream",
     "text": [
      "Counting accurancy...\n",
      "train acc:0.89704\n",
      "test acc:0.85708\n"
     ]
    },
    {
     "name": "stderr",
     "output_type": "stream",
     "text": [
      "Epoch:[6/20]: 100%|██████████| 391/391 [00:08<00:00, 48.19it/s, LOSS=0.282, lr=1.000000e-02]\n"
     ]
    },
    {
     "name": "stdout",
     "output_type": "stream",
     "text": [
      "Counting accurancy...\n",
      "train acc:0.8966\n",
      "test acc:0.84368\n"
     ]
    },
    {
     "name": "stderr",
     "output_type": "stream",
     "text": [
      "Epoch:[7/20]: 100%|██████████| 391/391 [00:08<00:00, 47.22it/s, LOSS=0.249, lr=1.000000e-02]\n"
     ]
    },
    {
     "name": "stdout",
     "output_type": "stream",
     "text": [
      "Counting accurancy...\n",
      "train acc:0.92304\n",
      "test acc:0.85208\n"
     ]
    },
    {
     "name": "stderr",
     "output_type": "stream",
     "text": [
      "Epoch:[8/20]: 100%|██████████| 391/391 [00:08<00:00, 47.27it/s, LOSS=0.224, lr=1.000000e-02]\n"
     ]
    },
    {
     "name": "stdout",
     "output_type": "stream",
     "text": [
      "Counting accurancy...\n",
      "train acc:0.91496\n",
      "test acc:0.84404\n"
     ]
    },
    {
     "name": "stderr",
     "output_type": "stream",
     "text": [
      "Epoch:[9/20]: 100%|██████████| 391/391 [00:08<00:00, 46.82it/s, LOSS=0.21, lr=1.000000e-02] \n"
     ]
    },
    {
     "name": "stdout",
     "output_type": "stream",
     "text": [
      "Counting accurancy...\n",
      "train acc:0.94028\n",
      "test acc:0.8516\n"
     ]
    },
    {
     "name": "stderr",
     "output_type": "stream",
     "text": [
      "Epoch:[10/20]: 100%|██████████| 391/391 [00:08<00:00, 48.09it/s, LOSS=0.183, lr=1.000000e-02]\n"
     ]
    },
    {
     "name": "stdout",
     "output_type": "stream",
     "text": [
      "Counting accurancy...\n",
      "train acc:0.94232\n",
      "test acc:0.8428\n"
     ]
    },
    {
     "name": "stderr",
     "output_type": "stream",
     "text": [
      "Epoch:[11/20]: 100%|██████████| 391/391 [00:08<00:00, 47.69it/s, LOSS=0.17, lr=1.000000e-02] \n"
     ]
    },
    {
     "name": "stdout",
     "output_type": "stream",
     "text": [
      "Counting accurancy...\n",
      "train acc:0.94664\n",
      "test acc:0.8474\n"
     ]
    },
    {
     "name": "stderr",
     "output_type": "stream",
     "text": [
      "Epoch:[12/20]: 100%|██████████| 391/391 [00:08<00:00, 47.43it/s, LOSS=0.157, lr=1.000000e-02]\n"
     ]
    },
    {
     "name": "stdout",
     "output_type": "stream",
     "text": [
      "Counting accurancy...\n",
      "train acc:0.96092\n",
      "test acc:0.8484\n"
     ]
    },
    {
     "name": "stderr",
     "output_type": "stream",
     "text": [
      "Epoch:[13/20]: 100%|██████████| 391/391 [00:08<00:00, 48.25it/s, LOSS=0.143, lr=1.000000e-02]\n"
     ]
    },
    {
     "name": "stdout",
     "output_type": "stream",
     "text": [
      "Counting accurancy...\n",
      "train acc:0.96424\n",
      "test acc:0.85168\n"
     ]
    },
    {
     "name": "stderr",
     "output_type": "stream",
     "text": [
      "Epoch:[14/20]: 100%|██████████| 391/391 [00:07<00:00, 52.62it/s, LOSS=0.144, lr=1.000000e-02]\n"
     ]
    },
    {
     "name": "stdout",
     "output_type": "stream",
     "text": [
      "Counting accurancy...\n",
      "train acc:0.9532\n",
      "test acc:0.84196\n"
     ]
    },
    {
     "name": "stderr",
     "output_type": "stream",
     "text": [
      "Epoch:[15/20]: 100%|██████████| 391/391 [00:06<00:00, 56.73it/s, LOSS=0.131, lr=1.000000e-02]\n"
     ]
    },
    {
     "name": "stdout",
     "output_type": "stream",
     "text": [
      "Counting accurancy...\n",
      "train acc:0.95332\n",
      "test acc:0.839\n"
     ]
    },
    {
     "name": "stderr",
     "output_type": "stream",
     "text": [
      "Epoch:[16/20]: 100%|██████████| 391/391 [00:07<00:00, 54.42it/s, LOSS=0.112, lr=1.000000e-02] \n"
     ]
    },
    {
     "name": "stdout",
     "output_type": "stream",
     "text": [
      "Counting accurancy...\n",
      "train acc:0.9656\n",
      "test acc:0.83928\n"
     ]
    },
    {
     "name": "stderr",
     "output_type": "stream",
     "text": [
      "Epoch:[17/20]: 100%|██████████| 391/391 [00:07<00:00, 51.59it/s, LOSS=0.106, lr=1.000000e-02] \n"
     ]
    },
    {
     "name": "stdout",
     "output_type": "stream",
     "text": [
      "Counting accurancy...\n",
      "train acc:0.9746\n",
      "test acc:0.8418\n"
     ]
    },
    {
     "name": "stderr",
     "output_type": "stream",
     "text": [
      "Epoch:[18/20]: 100%|██████████| 391/391 [00:07<00:00, 55.22it/s, LOSS=0.105, lr=1.000000e-02] \n"
     ]
    },
    {
     "name": "stdout",
     "output_type": "stream",
     "text": [
      "Counting accurancy...\n",
      "train acc:0.9722\n",
      "test acc:0.84484\n"
     ]
    },
    {
     "name": "stderr",
     "output_type": "stream",
     "text": [
      "Epoch:[19/20]: 100%|██████████| 391/391 [00:07<00:00, 53.20it/s, LOSS=0.095, lr=1.000000e-02] \n"
     ]
    },
    {
     "name": "stdout",
     "output_type": "stream",
     "text": [
      "Counting accurancy...\n",
      "train acc:0.97332\n",
      "test acc:0.84116\n"
     ]
    },
    {
     "name": "stderr",
     "output_type": "stream",
     "text": [
      "Epoch:[20/20]: 100%|██████████| 391/391 [00:07<00:00, 53.85it/s, LOSS=0.0877, lr=1.000000e-02]\n"
     ]
    },
    {
     "name": "stdout",
     "output_type": "stream",
     "text": [
      "Counting accurancy...\n",
      "train acc:0.95956\n",
      "test acc:0.82996\n"
     ]
    }
   ],
   "source": [
    "# 训练超参数\n",
    "lr, num_epochs = 0.01, 20\n",
    "loss = nn.CrossEntropyLoss(reduction = 'none') # 返回每个样本的损失，即reduction = 'None'\n",
    "trainer = torch.optim.Adam(net.parameters(),lr = lr)\n",
    "plt_collections = train(net,trainer,train_iter,test_iter,loss,lr,num_epochs,device_idx = 6)"
   ]
  },
  {
   "cell_type": "code",
   "execution_count": 15,
   "id": "5798045b",
   "metadata": {},
   "outputs": [
    {
     "data": {
      "image/png": "[encoded data removed]",
      "text/plain": [
       "<Figure size 640x480 with 1 Axes>"
      ]
     },
     "metadata": {},
     "output_type": "display_data"
    }
   ],
   "source": [
    "import matplotlib.pyplot as plt\n",
    "import numpy as np\n",
    "loss_plt,train_acc_plt,test_acc_plt = plt_collections\n",
    "plt.plot(np.arange(num_epochs),loss_plt,label = 'Loss')\n",
    "plt.plot(np.arange(num_epochs),train_acc_plt,label = 'train_acc')\n",
    "plt.plot(np.arange(num_epochs),test_acc_plt,label = 'test_acc')\n",
    "plt.xlabel(\"epoch\")\n",
    "\n",
    "# 设置主要和次要刻度\n",
    "plt.xticks(np.arange(0, num_epochs + 1, 1))  # 主刻度每1单位\n",
    "plt.yticks(np.arange(0, 1.1, 0.2))  # Y轴每0.5单位\n",
    "\n",
    "# 添加主要网格和次要网格\n",
    "plt.grid(True, which='major', linestyle='-', alpha=0.7)\n",
    "plt.legend()\n",
    "plt.show()"
   ]
  },
  {
   "cell_type": "code",
   "execution_count": 16,
   "id": "0aa483b5",
   "metadata": {},
   "outputs": [],
   "source": [
    "import os\n",
    "save_prefix = \"results/rnn\"\n",
    "os.makedirs(save_prefix,exist_ok = True)\n",
    "torch.save(net,os.path.join(save_prefix,\"exp2.pt\"))"
   ]
  },
  {
   "cell_type": "code",
   "execution_count": 17,
   "id": "0b8d3736",
   "metadata": {},
   "outputs": [
    {
     "data": {
      "text/plain": [
       "['plots/rnn/exp2-20epoch.joblib']"
      ]
     },
     "execution_count": 17,
     "metadata": {},
     "output_type": "execute_result"
    }
   ],
   "source": [
    "# 保存结果数据\n",
    "import joblib\n",
    "plot_prefix = \"plots/rnn\"\n",
    "os.makedirs(plot_prefix,exist_ok = True)\n",
    "joblib.dump(plt_collections,os.path.join(plot_prefix,\"exp2-20epoch.joblib\"))"
   ]
  },
  {
   "cell_type": "markdown",
   "id": "ae24f429",
   "metadata": {},
   "source": [
    "**三、效果预测**"
   ]
  },
  {
   "cell_type": "code",
   "execution_count": 69,
   "id": "7baa1ffd",
   "metadata": {},
   "outputs": [],
   "source": [
    "def predict(input,vocab:Vocab,net):\n",
    "    net.eval()\n",
    "    device = next(net.parameters()).device\n",
    "    input = [vocab[word] for word in input.split()]\n",
    "    input = torch.tensor(\n",
    "        truncate_pad(input,num_steps = 500,padding_token = vocab['<pad>'])).unsqueeze(0) \n",
    "    # shape = (batch_size,num_steps)\n",
    "    y_pred = torch.argmax(net(input.to(device)),dim = 1).squeeze(0).item()\n",
    "    return \"positive\" if y_pred == 1 else \"negative\"\n",
    "    "
   ]
  },
  {
   "cell_type": "code",
   "execution_count": null,
   "id": "6c5cad1c",
   "metadata": {},
   "outputs": [
    {
     "name": "stdout",
     "output_type": "stream",
     "text": [
      "negative\n",
      "negative\n",
      "positive\n",
      "positive\n"
     ]
    }
   ],
   "source": [
    "print(predict(\"the movie is bad\",vocab,net))\n",
    "print(predict(\"the movie is good\",vocab,net))\n",
    "print(predict(\"this movie is so great\",vocab,net))\n",
    "print(predict(\"I'm a male, not given to women's movies, but this is really a well done special story. I have no personal love for Jane Fonda as a person but she does one Hell of a fine job, while DeNiro is his usual superb self. Everything is so well done: acting, directing, visuals, settings, photography, casting. If you can enjoy a story of real people and real love - this is a winner.\",vocab,net))"
   ]
  },
  {
   "cell_type": "code",
   "execution_count": 80,
   "id": "ca331957",
   "metadata": {},
   "outputs": [
    {
     "name": "stdout",
     "output_type": "stream",
     "text": [
      "positive\n",
      "negative\n",
      "positive\n"
     ]
    }
   ],
   "source": [
    "print(predict(\"good\",vocab,net))\n",
    "print(predict(\"Bad\",vocab,net))\n",
    "print(predict(\"fantastic\",vocab,net))"
   ]
  }
 ],
 "metadata": {
  "kernelspec": {
   "display_name": "QwenLM",
   "language": "python",
   "name": "python3"
  },
  "language_info": {
   "codemirror_mode": {
    "name": "ipython",
    "version": 3
   },
   "file_extension": ".py",
   "mimetype": "text/x-python",
   "name": "python",
   "nbconvert_exporter": "python",
   "pygments_lexer": "ipython3",
   "version": "3.10.16"
  }
 },
 "nbformat": 4,
 "nbformat_minor": 5
}
